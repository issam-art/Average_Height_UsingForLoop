{
  "nbformat": 4,
  "nbformat_minor": 0,
  "metadata": {
    "colab": {
      "provenance": [],
      "include_colab_link": true
    },
    "kernelspec": {
      "name": "python3",
      "display_name": "Python 3"
    }
  },
  "cells": [
    {
      "cell_type": "markdown",
      "metadata": {
        "id": "view-in-github",
        "colab_type": "text"
      },
      "source": [
        "<a href=\"https://colab.research.google.com/github/issam-art/Average_Height_UsingForLoop/blob/master/Copy_of_M1_MIAGE_TD_03.ipynb\" target=\"_parent\"><img src=\"https://colab.research.google.com/assets/colab-badge.svg\" alt=\"Open In Colab\"/></a>"
      ]
    },
    {
      "cell_type": "markdown",
      "metadata": {
        "id": "597Hu82gSNCZ"
      },
      "source": [
        "<img src=\"https://upload.wikimedia.org/wikipedia/fr/0/0b/Polytech_Lyon_logo.png\" alt=\"drawing\" height=\"200\"/>\n",
        "\n",
        "# Algorithmique Avancée & Programmation en Python\n",
        "---\n",
        "\n"
      ]
    },
    {
      "cell_type": "markdown",
      "source": [
        "# TD 03\n",
        "\n",
        "Intro aux traitement de données\n",
        "\n",
        "```python\n",
        "print(\"Hello, friend! It's been a while...\")\n",
        "```\n",
        " \n",
        "Elements à consulter:\n",
        "\n",
        "\n",
        "Doc                                   |             Link\n",
        "--------------------------------------|------------------------------------\n",
        "Python en 30 jours | [>link<](https://moncoachdata.com/courses/apprendre-python-en-30-jours/)\n",
        "Get started with pandas | [>link<](https://colab.research.google.com/notebooks/snippets/pandas.ipynb)"
      ],
      "metadata": {
        "id": "EA-XK862WiMt"
      }
    },
    {
      "cell_type": "markdown",
      "source": [
        "## Intro\n",
        "\n",
        "Le premier bloc devrait toujours contenir les installs/imports dont on aura besoin pour le reste"
      ],
      "metadata": {
        "id": "Y1g4EgT41MqJ"
      }
    },
    {
      "cell_type": "code",
      "source": [
        "# Installs\n",
        "!pip install emoji --quiet"
      ],
      "metadata": {
        "id": "yjiE8c51VoT0",
        "colab": {
          "base_uri": "https://localhost:8080/"
        },
        "outputId": "e5105053-1344-4e08-936f-087488a8810b"
      },
      "execution_count": null,
      "outputs": [
        {
          "output_type": "stream",
          "name": "stdout",
          "text": [
            "\u001b[?25l\r\u001b[K     |█▍                              | 10 kB 15.3 MB/s eta 0:00:01\r\u001b[K     |██▊                             | 20 kB 7.8 MB/s eta 0:00:01\r\u001b[K     |████                            | 30 kB 10.4 MB/s eta 0:00:01\r\u001b[K     |█████▍                          | 40 kB 6.6 MB/s eta 0:00:01\r\u001b[K     |██████▉                         | 51 kB 6.3 MB/s eta 0:00:01\r\u001b[K     |████████▏                       | 61 kB 7.3 MB/s eta 0:00:01\r\u001b[K     |█████████▌                      | 71 kB 7.4 MB/s eta 0:00:01\r\u001b[K     |██████████▉                     | 81 kB 6.9 MB/s eta 0:00:01\r\u001b[K     |████████████▎                   | 92 kB 7.6 MB/s eta 0:00:01\r\u001b[K     |█████████████▋                  | 102 kB 7.4 MB/s eta 0:00:01\r\u001b[K     |███████████████                 | 112 kB 7.4 MB/s eta 0:00:01\r\u001b[K     |████████████████▎               | 122 kB 7.4 MB/s eta 0:00:01\r\u001b[K     |█████████████████▊              | 133 kB 7.4 MB/s eta 0:00:01\r\u001b[K     |███████████████████             | 143 kB 7.4 MB/s eta 0:00:01\r\u001b[K     |████████████████████▍           | 153 kB 7.4 MB/s eta 0:00:01\r\u001b[K     |█████████████████████▊          | 163 kB 7.4 MB/s eta 0:00:01\r\u001b[K     |███████████████████████▏        | 174 kB 7.4 MB/s eta 0:00:01\r\u001b[K     |████████████████████████▌       | 184 kB 7.4 MB/s eta 0:00:01\r\u001b[K     |█████████████████████████▉      | 194 kB 7.4 MB/s eta 0:00:01\r\u001b[K     |███████████████████████████▏    | 204 kB 7.4 MB/s eta 0:00:01\r\u001b[K     |████████████████████████████▋   | 215 kB 7.4 MB/s eta 0:00:01\r\u001b[K     |██████████████████████████████  | 225 kB 7.4 MB/s eta 0:00:01\r\u001b[K     |███████████████████████████████▎| 235 kB 7.4 MB/s eta 0:00:01\r\u001b[K     |████████████████████████████████| 240 kB 7.4 MB/s \n",
            "\u001b[?25h  Building wheel for emoji (setup.py) ... \u001b[?25l\u001b[?25hdone\n"
          ]
        }
      ]
    },
    {
      "cell_type": "code",
      "source": [
        "# Imports\n",
        "import os\n",
        "import json\n",
        "from random import randint\n",
        "# import pandas as pd\n",
        "# import numpy as np\n",
        "from getpass import getpass\n",
        "import emoji\n",
        "\n",
        "print(emoji.emojize('Python is awesome :thumbs_up:'))"
      ],
      "metadata": {
        "id": "JhT-50uwz72F",
        "colab": {
          "base_uri": "https://localhost:8080/"
        },
        "outputId": "a0bf2fdb-2527-4731-e9f3-007b46bbf924"
      },
      "execution_count": null,
      "outputs": [
        {
          "output_type": "stream",
          "name": "stdout",
          "text": [
            "Python is awesome 👍\n"
          ]
        }
      ]
    },
    {
      "cell_type": "markdown",
      "source": [
        "##EX01\n",
        "### Révision boucles / compréhension de listes\n",
        "\n",
        "Avec l'usage de la boucle `for`, répondez aux questions ci-dessous\n",
        "\n",
        "\n",
        "> PS: Code pris et modifié à partir d'exo sur github"
      ],
      "metadata": {
        "id": "5jpD7nr9NrKR"
      }
    },
    {
      "cell_type": "code",
      "source": [
        "##############################################################\n",
        "nombres = [1, 21, 5, 44, 4, 9, 5, 83, 29, 31, 25, 38]\n",
        "nombres_pairs = []\n",
        "i=1\n",
        "for i in range(len(nombres)):\n",
        "  if (nombres[i]%2)==0:\n",
        "    nombres_pairs.append(nombres[i])\n",
        "print(nombres_pairs)\n",
        "\n",
        "##############################################################\n",
        "nombres = range(-10, 10)\n",
        "nombres_positifs = []\n",
        "i=1\n",
        "for i in range(len(nombres)):\n",
        "  if nombres[i]>0:\n",
        "    nombres_positifs.append(nombres[i])\n",
        "print(nombres_positifs)\n",
        "\n",
        "\n",
        "##############################################################\n",
        "\n",
        "nombres = range(5)\n",
        "nombres_x2 = []\n",
        "result = 0\n",
        "\n",
        "for x in nombres:\n",
        "  result = x*2\n",
        "  # print(result)\n",
        "  nombres_x2.append(result)\n",
        "  \n",
        "print(nombres_x2)"
      ],
      "metadata": {
        "id": "8p4JXCtEyQBX"
      },
      "execution_count": null,
      "outputs": []
    },
    {
      "cell_type": "markdown",
      "source": [
        "### PART 2\n",
        "Changez le code ci-dessus, et remplacez les blocs `for` par des [compréhensions de listes](https://duckduckgo.com/?q=list+comprehension+python)"
      ],
      "metadata": {
        "id": "BQBEhammPFtE"
      }
    },
    {
      "cell_type": "code",
      "source": [],
      "metadata": {
        "id": "zlMvZFGcPEAG"
      },
      "execution_count": null,
      "outputs": []
    },
    {
      "cell_type": "markdown",
      "source": [
        "##EX02\n",
        "### Les sets\n",
        "\n",
        "  1. Créez un `set` vide et attribuez-le à une variable.\n",
        "  2. Ajoutez trois éléments à votre ensemble vide en utilisant soit plusieurs appels `add`, soit un seul appel de `update`.\n",
        "\n",
        "  3. Créez un deuxième `set` qui comprend au moins un élément commun avec le premier ensemble.\n",
        "\n",
        "  4. Trouvez l’union, la différence et l’intersection des deux `set`. >>\n",
        "Imprimez les résultats de chaque opération.\n",
        "\n",
        "  5. Créez une `set` de nombres en utilisant `range()`, puis demandez à l’utilisateur d’entrer un nombre. Indiquez à l’utilisateur si son nombre se situe ou non dans la plage de valeurs que vous avez spécifiée.\n",
        "\n",
        ">Bonus: \n",
        ">>Indiquer à l’utilisateur si son nombre était trop élevé ou trop bas."
      ],
      "metadata": {
        "id": "cN_XcFu1dG5V"
      }
    },
    {
      "cell_type": "code",
      "source": [
        "# Code here\n",
        "S1 = set()\n",
        "S1.add(\"Mango1\")\n",
        "S1.add(\"Mango2\")\n",
        "S1.add(\"Mango3\")\n",
        "\n",
        "print(S1)\n",
        "\n",
        "S2 = set()\n",
        "S2.update([\"Mango1\"])\n",
        "print(S2)\n",
        "print(\"******union*********\")\n",
        "s3 = S1.union(S2)\n",
        "print(s3)\n",
        "\n",
        "print(\"******Intersection of S1 and S2*********\")\n",
        "S1.intersection_update(S2)\n",
        "print(S1)\n",
        "\n",
        "print(\"******Diffrence of S1 and S2*********\")\n",
        "# S1.symmetric_difference_update(S2)\n",
        "List1 = set()\n",
        "List1.update(['sami', 'nicolas', 'ahmed'])\n",
        "List2 = set()\n",
        "List2.update(['messi', 'sami'])\n",
        "List1.symmetric_difference_update(List2)\n",
        "print(List1)\n",
        "\n",
        "print(\"*****************\")\n",
        "S1 = set()\n",
        "S1.update(range(10))\n",
        "UserInput = int(input(\"please enter a number \"))\n",
        "print(S1)\n",
        "if UserInput in S1:\n",
        "  print(f\" {UserInput} exist\")\n",
        "else:\n",
        "  print(f\" {UserInput} not exist\")\n"
      ],
      "metadata": {
        "id": "yzbCm94SwV6g",
        "colab": {
          "base_uri": "https://localhost:8080/"
        },
        "outputId": "3a56588b-96e2-4db0-eb18-a6a6b509cb49"
      },
      "execution_count": null,
      "outputs": [
        {
          "output_type": "stream",
          "name": "stdout",
          "text": [
            "{'Mango3', 'Mango1', 'Mango2'}\n",
            "{'Mango1'}\n",
            "******union*********\n",
            "{'Mango3', 'Mango1', 'Mango2'}\n",
            "******Intersection of S1 and S2*********\n",
            "{'Mango1'}\n",
            "******Diffrence of S1 and S2*********\n",
            "{'messi', 'nicolas', 'ahmed'}\n",
            "*****************\n",
            "please enter a number 10\n",
            "{0, 1, 2, 3, 4, 5, 6, 7, 8, 9}\n",
            " 10 not exist\n"
          ]
        }
      ]
    },
    {
      "cell_type": "markdown",
      "source": [
        "## EX03\n",
        "### Revision listes\n",
        "1. Créez une liste de séries (`binge_watch_list`) contenant un seul tuple. Le tuple doit contenir le titre de la série, la plateforme de streaming (légal), le nombre d'épisodes de la série, l'année de sortie et une note /10.\n",
        "\n",
        "2. Créez une fonction (`input_series`) qui receuil des informations sur d'autres séries à l'aide de la fonction native `input`. Et nous retourne un tuple. \\n\n",
        "Tout les champs sont obligatoires.\n",
        "\n",
        "4. Utilisez `f-string` pour imprimer le nom et l’année de sortie de la série qu'on vient d'input.\n",
        "\n",
        "3. Alimenter la liste (`binge_watch_list`) avec le retour de la fonction (`input_series`) \\n\n",
        "Assurez vous que l'ordre des champs soit le même que dans (`binge_watch_list`).\n",
        "\n",
        "\n",
        "5. Afficher le nom et l’année de sortie de toutes les séries dans `binge_watch_list`.\n",
        "\n",
        "> Bonus:\n",
        "\n",
        "6. Supprimez la série la moins bien noté de `binge_watch_list`. Utilisez la méthode de votre choix."
      ],
      "metadata": {
        "id": "SHsrGdy-5AZK"
      }
    },
    {
      "cell_type": "code",
      "source": [
        "# Code here\n",
        "\n",
        "t1 = tuple ((\"the100\",\"Netflix\", 75 , 2018 , 12 ))\n",
        "binge_watch_list = []\n",
        "binge_watch_list.append(t1)\n",
        "\n",
        "def Input_serie():\n",
        "  t = input(\"enter the name of the serie: \")\n",
        "  while t == \"\" :\n",
        "    t = input(\"enter the name of the serie: \")\n",
        "  Plt = input(\"enter the platforme of the serie: \")\n",
        "  while Plt == \"\" :\n",
        "    Plt = input(\"enter the platforme of the serie: \")\n",
        "  NbrEpi = input(\"enter the nbr of the episode: \")\n",
        "  while NbrEpi == \"\" :\n",
        "    NbrEpi = input(\"enter the nbr of the episode: \")\n",
        "  DateOut = input(\"enter the Date out of the serie: \")\n",
        "  while DateOut == \"\" :\n",
        "    DateOut = input(\"enter the Date out of the serie: \")\n",
        "  Score = input(\"enter the Score out of the serie: \")\n",
        "  while Score == \"\" :\n",
        "    Score = input(\"enter the Score out of the serie: \")\n",
        "  t2 = tuple ((t,Plt, NbrEpi , DateOut , Score ))\n",
        "  binge_watch_list.append(t2)\n",
        "  \n",
        "Input_serie()\n",
        "print(binge_watch_list)"
      ],
      "metadata": {
        "id": "jIatRWhm5Xzo",
        "colab": {
          "base_uri": "https://localhost:8080/"
        },
        "outputId": "eff06a69-d04a-4b35-e031-689b1a18f521"
      },
      "execution_count": null,
      "outputs": [
        {
          "output_type": "stream",
          "name": "stdout",
          "text": [
            "enter the name of the serie: casa\n",
            "enter the platforme of the serie: XX\n",
            "enter the nbr of the episode: 199\n",
            "enter the Date out of the serie: 2012\n",
            "enter the Score out of the serie: 16\n",
            "[('the100', 'Netflix', 75, 2018, 12), ('casa', 'XX', '199', '2012', '16')]\n"
          ]
        }
      ]
    },
    {
      "cell_type": "markdown",
      "source": [
        "Transformer le code ci-dessous de liste a dictionnaire"
      ],
      "metadata": {
        "id": "-Zrebyjbxb89"
      }
    },
    {
      "cell_type": "code",
      "source": [],
      "metadata": {
        "id": "wqwmWD1HxfKF"
      },
      "execution_count": null,
      "outputs": []
    },
    {
      "cell_type": "markdown",
      "source": [
        "## EX04\n",
        "### Révision strings / fonctions\n",
        "Implementer deux fonctions `input_password()` & `password_check(x)` qui :\n",
        "\n",
        "1. `input_password()` fait:\n",
        "    * Demande à l'utilisateur un mot de passe d'au moins 8 caractères, 12 c'est mieux.\n",
        "    * retourne ce dernier\n",
        "\n",
        "2. `password_check(x)` verifie:\n",
        "\n",
        "    * print `mot de passe trop court!` **avec une majuscule sur la première lettre** si la longueur du mot de passe entré est `plus petite que 8`.\n",
        "\n",
        "    * Verifier que le mot de passe soit une combinaison de `lettres majuscules, de lettres minuscules, de chiffres et de symboles.` \n",
        "    > Si le mot de passe manque de répondre à une condition, l'afficher à l'utilisateur\n",
        "\n",
        "    *  Afficher la phrase `\"Mot de passe valide.\"` si le mot de passe répond à **toutes les conditions**.\n",
        "\n",
        "> bonus \n",
        "\n",
        "* Verifier qu'un même mot de passe ne peut pas etre saisie deux fois, ex. utiliser une variable `previous_password`"
      ],
      "metadata": {
        "id": "W3BGjEYaf2UQ"
      }
    },
    {
      "cell_type": "code",
      "source": [
        "# Start from this\n",
        "# def input_password():\n",
        "#   while True:\n",
        "#     password = input(\"Enter a password: \")\n",
        "#     if len(password) < 8:\n",
        "#       print(\"Make sure your password is at lest 8 letters\")\n",
        "#     else:\n",
        "#       print(\"Your password seems fine\")\n",
        "#       break\n",
        "# input_password()\n",
        "\n",
        "def password_check(x):\n",
        "  special = \"\"\"!\"#$%&'()*+,-./:;<=>?@[\\]^_`{|}~\"\"\"\n",
        "  l, u, p, d = 0, 0, 0, 0\n",
        "  if (len(x) >= 8):\n",
        "    for i in x:\n",
        "        if (i.islower()):\n",
        "            l+=1       \n",
        "        if (i.isupper()):\n",
        "            u+=1\n",
        "        if (i.isdigit()):\n",
        "            d+=1           \n",
        "        if i in special:\n",
        "            p+=1       \n",
        "  if (l>=1 and u>=1 and p>=1 and d>=1 and l+p+u+d==len(x)):\n",
        "    print(\"mot de passe valide\")\n",
        "  else:\n",
        "    if d==0:\n",
        "      print(\"ajoutez des chiffres\")\n",
        "    elif l==0:\n",
        "      print(\"ajoutez des lettres minuscules\")\n",
        "    elif p==0:\n",
        "      print(\"ajoutez des symboles\")\n",
        "    elif u==0:\n",
        "      print(\"ajoutez des lettres majuscules\")\n",
        "    \n",
        "    print(\"password not valid\")\n",
        "    \n",
        "\n",
        "password_check('issam@1234')"
      ],
      "metadata": {
        "id": "FS2OxAtBf1tB",
        "colab": {
          "base_uri": "https://localhost:8080/"
        },
        "outputId": "a8e1bce4-3f6b-4ddd-8d28-dfc3f22a258b"
      },
      "execution_count": null,
      "outputs": [
        {
          "output_type": "stream",
          "name": "stdout",
          "text": [
            "ajoutez des lettres majuscules\n",
            "password not valid\n"
          ]
        }
      ]
    },
    {
      "cell_type": "markdown",
      "source": [
        "## EX05\n",
        "### To do list\n",
        "1. Créez une fonction (`to_do_list()`) qui demande à l'utilisateur de choisir parmis 5 options\n",
        "    1. Ajouter un élément à la to do list\n",
        "    2. Retirer un élément de la to do list\n",
        "    3. Afficher les éléments de la to do list\n",
        "    4. Vider la to do list\n",
        "    5. Quitter le programme\n",
        "2. L'utilisateur doit entrer un nombre (entre 1 et 5) pour choisir l'option souhaité \n",
        "    * Vous devez verifier que l'input est un nombre\n",
        "    * Vous devez verifier que l'input est entre 1 et 5\n",
        "\n",
        "3. Implementez chancune des options de la fonction 😃\n",
        "\n",
        "3. Exemple de run du code ci dessous 👇"
      ],
      "metadata": {
        "id": "nu6wbxZnc2vL"
      }
    },
    {
      "cell_type": "code",
      "source": [],
      "metadata": {
        "id": "FqgwJj-2USlc",
        "colab": {
          "base_uri": "https://localhost:8080/"
        },
        "outputId": "8161f044-f38d-449c-c745-51350373eb8c"
      },
      "execution_count": null,
      "outputs": [
        {
          "output_type": "stream",
          "name": "stdout",
          "text": [
            "\n",
            "  Entrer un nombre pour choisir parmis les options: \n",
            "\n",
            "  \t 1. Ajouter un élément à la to do list \n",
            "\n",
            "  \t 2. Retirer un élément de la to do list \n",
            "\n",
            "  \t 3. Afficher les éléments de la to do list \n",
            "\n",
            "  \t 4. Vider la to do list \n",
            "\n",
            "  \t 5. Quitter le programme \n",
            "\n",
            "-> 3\n",
            "\n",
            "  To do list: \n",
            "\n",
            "  \t 1. Nourrir le chat \n",
            "\n",
            "  \t 2. Préparer le cours de Python 👍 \n",
            "\n",
            "  \t 3. Manger \n",
            "\n",
            "  \t 4. Dormir \n",
            "\n",
            "\n",
            "    \n"
          ]
        }
      ]
    },
    {
      "cell_type": "code",
      "source": [
        "##\n",
        "\n",
        "def to_do_list():\n",
        "  liste=['Nourrir le chat', 'préparer le cours de Python 👍', 'Manger', 'Dormir']\n",
        "  while(1):\n",
        "    x=int(input(\"\"\" Entrer un nombre pour choisir parmis les options: \n",
        "\n",
        "  \t 1. Ajouter un élément à la to do list \n",
        "\n",
        "  \t 2. Retirer un élément de la to do list \n",
        "\n",
        "  \t 3. Afficher les éléments de la to do list \n",
        "\n",
        "  \t 4. Vider la to do list \n",
        "\n",
        "  \t 5. Quitter le programme \n",
        "     --> \"\"\"))\n",
        "    print(x)\n",
        "    if x==1:\n",
        "      y=str(input('ajouter un élément à la to do list : '))\n",
        "      liste.append(y)\n",
        "    if x==2:\n",
        "      i=1\n",
        "      print('to do list')\n",
        "      for a in liste :\n",
        "        print(f'{i}. {a}')\n",
        "        i+=1\n",
        "      x1=int(input('retirer un élément de la to do list : '))\n",
        "      del liste[x1-1]\n",
        "      i=1\n",
        "      print('Nouvelle to do list')\n",
        "      for a in liste :\n",
        "        print(f'{i}. {a}')\n",
        "        i=i+1\n",
        "    if x==3:\n",
        "      i=1\n",
        "      print('to do list')\n",
        "      for a in liste :\n",
        "        print(f\"{i}. {a}\")\n",
        "        i=i+1\n",
        "    if x==4:\n",
        "      i=0\n",
        "      for a in liste:\n",
        "        liste.remove(a)\n",
        "      print('to do list Vide')\n",
        "    if x==5:\n",
        "      \n",
        "\n",
        "to_do_list()"
      ],
      "metadata": {
        "id": "ixKJ8w3Wvmuq"
      },
      "execution_count": null,
      "outputs": []
    },
    {
      "cell_type": "markdown",
      "source": [
        "# Bonus (Mandatory)\n",
        "\n",
        "\n"
      ],
      "metadata": {
        "id": "XdJvMT9xVoRS"
      }
    },
    {
      "cell_type": "markdown",
      "source": [
        "## Github\n",
        "Pour soumettre votre travail: \n",
        "\n",
        "1.   Commit changes to a branch and push to [github](https://google.com)\n",
        "2.   Create pull request / merge request\n"
      ],
      "metadata": {
        "id": "94-12vgPXG10"
      }
    }
  ]
}